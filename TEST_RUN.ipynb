{
  "cells": [
    {
      "cell_type": "code",
      "execution_count": 1,
      "metadata": {
        "id": "dgzZSG2kJ_cQ"
      },
      "outputs": [
        {
          "name": "stdout",
          "output_type": "stream",
          "text": [
            "290877eceee584e9c2bbc3c133598f9dbd4569c9069e74f6c1f051234f8e7d61\n"
          ]
        },
        {
          "name": "stderr",
          "output_type": "stream",
          "text": [
            "Unable to find image 'jaegertracing/all-in-one:1.44' locally\n",
            "1.44: Pulling from jaegertracing/all-in-one\n",
            "91d30c5bc195: Pulling fs layer\n",
            "22eba301b404: Pulling fs layer\n",
            "224828329792: Pulling fs layer\n",
            "2c88d34e2942: Pulling fs layer\n",
            "557b82f2073e: Pulling fs layer\n",
            "2c88d34e2942: Waiting\n",
            "557b82f2073e: Waiting\n",
            "224828329792: Download complete\n",
            "22eba301b404: Verifying Checksum\n",
            "22eba301b404: Download complete\n",
            "91d30c5bc195: Download complete\n",
            "557b82f2073e: Download complete\n",
            "91d30c5bc195: Pull complete\n",
            "22eba301b404: Pull complete\n",
            "224828329792: Pull complete\n",
            "2c88d34e2942: Verifying Checksum\n",
            "2c88d34e2942: Download complete\n",
            "2c88d34e2942: Pull complete\n",
            "557b82f2073e: Pull complete\n",
            "Digest: sha256:d0a97f79efec8e4e9513e2bea9345792b5b90a3e92240775831d328df4ca4ccf\n",
            "Status: Downloaded newer image for jaegertracing/all-in-one:1.44\n"
          ]
        }
      ],
      "source": [
        "!docker run -d --name jaeger -e COLLECTOR_ZIPKIN_HOST_PORT=:9411 -e COLLECTOR_OTLP_ENABLED=true -p 6831:6831/udp -p 6832:6832/udp -p 5778:5778 -p 16686:16686 -p 4317:4317 -p 4318:4318 -p 14250:14250 -p 14268:14268 -p 14269:14269 -p 9411:9411 jaegertracing/all-in-one:1.44"
      ]
    },
    {
      "cell_type": "markdown",
      "metadata": {},
      "source": [
        "Access Jaeger Trace server with `http://localhost:16686/)`"
      ]
    },
    {
      "cell_type": "code",
      "execution_count": 2,
      "metadata": {
        "id": "t9v0FSFqJe1e"
      },
      "outputs": [
        {
          "name": "stdout",
          "output_type": "stream",
          "text": [
            "resnet50_keras model exists\n",
            "tensorflow-agent is loaded with resnet50_keras model\n",
            "\n",
            "test_data dataset exists\n",
            "test_data dataset is loaded\n",
            "\n",
            "prediction starts\n",
            "Warmup\n",
            "\n",
            "1/1 [==============================] - ETA: 0s\n",
            "1/1 [==============================] - 9s 9s/step\n",
            "\n",
            "1/1 [==============================] - ETA: 0s\n",
            "1/1 [==============================] - 0s 170ms/step\n",
            "Warmup done\n",
            "\n",
            "1/1 [==============================] - ETA: 0s\n",
            "1/1 [==============================] - 0s 187ms/step\n",
            "\n",
            "1/1 [==============================] - ETA: 0s\n",
            "1/1 [==============================] - 0s 182ms/step\n",
            "\n",
            "1/1 [==============================] - ETA: 0s\n",
            "1/1 [==============================] - 0s 168ms/step\n",
            "prediction is done\n",
            "\n",
            "outputs are as follows:\n",
            "[254 156 248 207 239 259]\n"
          ]
        },
        {
          "name": "stderr",
          "output_type": "stream",
          "text": [
            "2023-10-23 13:38:37.883534: I tensorflow/core/platform/cpu_feature_guard.cc:182] This TensorFlow binary is optimized to use available CPU instructions in performance-critical operations.\n",
            "To enable the following instructions: SSE SSE2 SSE3 SSE4.1 SSE4.2 AVX AVX2 FMA, in other operations, rebuild TensorFlow with the appropriate compiler flags.\n"
          ]
        }
      ],
      "source": [
        "!python run_image_classification.py --task image_classification --agent tensorflow --model_name resnet50_keras --architecture cpu --num_warmup 2 --dataset_name test_data --batch_size 2"
      ]
    },
    {
      "cell_type": "code",
      "execution_count": null,
      "metadata": {},
      "outputs": [],
      "source": []
    }
  ],
  "metadata": {
    "colab": {
      "provenance": []
    },
    "kernelspec": {
      "display_name": "Python 3",
      "name": "python3"
    },
    "language_info": {
      "codemirror_mode": {
        "name": "ipython",
        "version": 3
      },
      "file_extension": ".py",
      "mimetype": "text/x-python",
      "name": "python",
      "nbconvert_exporter": "python",
      "pygments_lexer": "ipython3",
      "version": "3.11.5"
    }
  },
  "nbformat": 4,
  "nbformat_minor": 0
}
