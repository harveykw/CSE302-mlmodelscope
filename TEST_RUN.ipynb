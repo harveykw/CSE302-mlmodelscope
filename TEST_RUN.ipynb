{
  "cells": [
    {
      "cell_type": "markdown",
      "metadata": {},
      "source": [
        "Access Jaeger Trace server with `http://localhost:16686/)`"
      ]
    },
    {
      "cell_type": "code",
      "execution_count": 2,
      "metadata": {
        "id": "t9v0FSFqJe1e"
      },
      "outputs": [
        {
          "name": "stdout",
          "output_type": "stream",
          "text": [
            "efficientnet_v2 model exists\n",
            "C:\\Users\\harve\\Desktop\\ELR\\py-mlmodelscope\\mlmodelscope\\tensorflow_agent\\tmp\\efficientnet_v2/efficientnet_v2\n",
            "tensorflow-agent is loaded with efficientnet_v2 model\n",
            "\n",
            "test_data dataset exists\n",
            "test_data dataset is loaded\n",
            "\n",
            "prediction starts\n",
            "Warmup\n",
            "Warmup done\n",
            "prediction is done\n",
            "\n",
            "outputs are as follows:\n",
            "[254 156 248 207 239 259]\n"
          ]
        },
        {
          "name": "stderr",
          "output_type": "stream",
          "text": [
            "2023-11-08 12:12:17.618646: I tensorflow/core/platform/cpu_feature_guard.cc:182] This TensorFlow binary is optimized to use available CPU instructions in performance-critical operations.\n",
            "To enable the following instructions: SSE SSE2 SSE3 SSE4.1 SSE4.2 AVX AVX2 FMA, in other operations, rebuild TensorFlow with the appropriate compiler flags.\n"
          ]
        }
      ],
      "source": [
        "!python run_image_classification.py --task image_classification --agent tensorflow --model_name efficientnet_v2 --architecture cpu --num_warmup 0 --dataset_name test_data --batch_size 1"
      ]
    },
    {
      "cell_type": "code",
      "execution_count": 10,
      "metadata": {},
      "outputs": [
        {
          "name": "stdout",
          "output_type": "stream",
          "text": [
            "efficientdet_d0 model exists\n",
            "C:\\Users\\harve\\Desktop\\ELR\\py-mlmodelscope\\mlmodelscope\\tensorflow_agent\\tmp\\efficientdet_d0/efficientdet_d0\n",
            "tensorflow-agent is loaded with efficientdet_d0 model\n",
            "\n",
            "test_data dataset exists\n",
            "test_data dataset is loaded\n",
            "\n",
            "prediction starts\n",
            "Warmup\n",
            "[[18.]]\n",
            "[[18.]]\n",
            "Warmup done\n",
            "[[18.]]\n",
            "[[18.]]\n",
            "[[18.]]\n",
            "[[18.]]\n",
            "[[1.]]\n",
            "[[18.]]\n",
            "prediction is done\n",
            "\n",
            "outputs are as follows:\n",
            "image_object_detection\n",
            "6\n",
            "1 1 1\n",
            "1 1 1\n",
            "1 1 1\n",
            "1 1 1\n",
            "1 1 1\n",
            "1 1 1\n"
          ]
        },
        {
          "name": "stderr",
          "output_type": "stream",
          "text": [
            "C:\\Users\\harve\\Desktop\\ELR\\py-mlmodelscope\\mlmodelscope\\tensorflow_agent\\models/image_object_detection/efficientdet_d0.py:12: UserWarning: If the size of the images is not consistent, the batch size should be 1.\n",
            "  warnings.warn(\"If the size of the images is not consistent, the batch size should be 1.\")\n",
            "2023-11-27 09:21:20.594953: I tensorflow/core/platform/cpu_feature_guard.cc:182] This TensorFlow binary is optimized to use available CPU instructions in performance-critical operations.\n",
            "To enable the following instructions: SSE SSE2 SSE3 SSE4.1 SSE4.2 AVX AVX2 FMA, in other operations, rebuild TensorFlow with the appropriate compiler flags.\n",
            "WARNING:absl:Importing a function (__inference___call___32344) with ops with unsaved custom gradients. Will likely fail if a gradient is requested.\n",
            "WARNING:absl:Importing a function (__inference_EfficientDet-D0_layer_call_and_return_conditional_losses_97451) with ops with unsaved custom gradients. Will likely fail if a gradient is requested.\n",
            "WARNING:absl:Importing a function (__inference_bifpn_layer_call_and_return_conditional_losses_77595) with ops with unsaved custom gradients. Will likely fail if a gradient is requested.\n",
            "WARNING:absl:Importing a function (__inference_EfficientDet-D0_layer_call_and_return_conditional_losses_103456) with ops with unsaved custom gradients. Will likely fail if a gradient is requested.\n",
            "WARNING:absl:Importing a function (__inference_EfficientDet-D0_layer_call_and_return_conditional_losses_93843) with ops with unsaved custom gradients. Will likely fail if a gradient is requested.\n",
            "WARNING:absl:Importing a function (__inference_EfficientDet-D0_layer_call_and_return_conditional_losses_107064) with ops with unsaved custom gradients. Will likely fail if a gradient is requested.\n",
            "WARNING:absl:Importing a function (__inference_bifpn_layer_call_and_return_conditional_losses_75975) with ops with unsaved custom gradients. Will likely fail if a gradient is requested.\n"
          ]
        }
      ],
      "source": [
        "!python run_image_object_detection.py --task image_object_detection --agent tensorflow --model_name efficientdet_d0 --architecture cpu --num_warmup 2 --dataset_name test_data --batch_size 1"
      ]
    },
    {
      "cell_type": "code",
      "execution_count": 11,
      "metadata": {},
      "outputs": [
        {
          "name": "stderr",
          "output_type": "stream",
          "text": [
            "Traceback (most recent call last):\n",
            "  File \"c:\\Users\\harve\\Desktop\\ELR\\py-mlmodelscope\\run_image_object_detection.py\", line 267, in <module>\n",
            "    main() \n",
            "    ^^^^^^\n",
            "  File \"c:\\Users\\harve\\Desktop\\ELR\\py-mlmodelscope\\run_image_object_detection.py\", line 71, in main\n",
            "    mlms.load_agent(task, agent, model_name) \n",
            "    ^^^^^^^^^^^^^^^^^^^^^^^^^^^^^^^^^^^^^^^^\n",
            "  File \"c:\\Users\\harve\\Desktop\\ELR\\py-mlmodelscope\\mlmodelscope\\mlmodelscope.py\", line 88, in load_agent\n",
            "    self.agent = TensorFlow_Agent(task, model_name, self.architecture, self.tracer, self.prop, self.carrier) \n",
            "                 ^^^^^^^^^^^^^^^^^^^^^^^^^^^^^^^^^^^^^^^^^^^^^^^^^^^^^^^^^^^^^^^^^^^^^^^^^^^^^^^^^^^^^^^^^^^\n",
            "  File \"c:\\Users\\harve\\Desktop\\ELR\\py-mlmodelscope\\mlmodelscope\\tensorflow_agent\\tensorflow_agent.py\", line 50, in __init__\n",
            "    self.load_model(task, model_name) \n",
            "    ^^^^^^^^^^^^^^^^^^^^^^^^^^^^^^^^^\n",
            "  File \"c:\\Users\\harve\\Desktop\\ELR\\py-mlmodelscope\\mlmodelscope\\tensorflow_agent\\tensorflow_agent.py\", line 76, in load_model\n",
            "    raise NotImplementedError(f\"{model_name} model is not supported, the available models are as follows:\\n{', '.join(model_list)}\") \n",
            "    ^^^^^^^^^^^^^^^^^^^^^^^^^^^^^^^^^^^^^^^^^^^^^^^^^^^^^^^^^^^^^^^^^^^^^^^^^^^^^^^^^^^^^^^^^^^^^^^^^^^^^^^^^^^^^^^^^^^^^^^^^^^^^^^^\n",
            "NotImplementedError: faster_rcnn_resnet50_coco.py model is not supported, the available models are as follows:\n",
            "centernet_resnet, efficientdet_d0, faster_rcnn_inception_resnet_v2_atrous_coco, faster_rcnn_inception_resnet_v2_atrous_lowproposals_coco, faster_rcnn_inception_v2_coco, faster_rcnn_nas_coco, faster_rcnn_nas_lowproposals_coco, faster_rcnn_resnet101_coco, faster_rcnn_resnet101_lowproposals_coco, faster_rcnn_resnet50_coco, faster_rcnn_resnet50_lowproposals_coco, mlperf_ssd_resnet34_1200x1200, rfcn_resnet101_coco, ssdlite_mobilenet_v2_coco, ssd_inception_v2_coco, ssd_mobilenet_v1_0_75_depth_300x300_coco14_sync, ssd_mobilenet_v1_coco, ssd_mobilenet_v1_fpn_shared_box_predictor_640x640_coco14_sync, ssd_mobilenet_v1_ppn_shared_box_predictor_300x300_coco14_sync, ssd_mobilenet_v2_coco, test_ssd_mobilenet_v1\n"
          ]
        }
      ],
      "source": [
        "!python run_image_object_detection.py --task image_object_detection --agent tensorflow --model_name faster_rcnn_resnet50_coco --architecture cpu --num_warmup 2 --dataset_name test_data --batch_size 1"
      ]
    },
    {
      "cell_type": "code",
      "execution_count": null,
      "metadata": {},
      "outputs": [],
      "source": []
    }
  ],
  "metadata": {
    "colab": {
      "provenance": []
    },
    "kernelspec": {
      "display_name": "Python 3",
      "name": "python3"
    },
    "language_info": {
      "codemirror_mode": {
        "name": "ipython",
        "version": 3
      },
      "file_extension": ".py",
      "mimetype": "text/x-python",
      "name": "python",
      "nbconvert_exporter": "python",
      "pygments_lexer": "ipython3",
      "version": "3.11.5"
    }
  },
  "nbformat": 4,
  "nbformat_minor": 0
}
