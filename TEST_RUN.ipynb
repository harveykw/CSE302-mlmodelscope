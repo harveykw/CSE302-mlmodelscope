{
  "cells": [
    {
      "cell_type": "markdown",
      "metadata": {},
      "source": [
        "Access Jaeger Trace server with `http://localhost:16686/)`"
      ]
    },
    {
      "cell_type": "code",
      "execution_count": 17,
      "metadata": {},
      "outputs": [
        {
          "name": "stdout",
          "output_type": "stream",
          "text": [
            "Traceback (most recent call last):\n",
            "  File \"/mnt/c/Users/Harvey/Coding/ELR/mlmodelscope/CSE302-mlmodelscope/run_image_object_detection.py\", line 267, in <module>\n",
            "    main() \n",
            "    ^^^^^^\n",
            "  File \"/mnt/c/Users/Harvey/Coding/ELR/mlmodelscope/CSE302-mlmodelscope/run_image_object_detection.py\", line 71, in main\n",
            "    mlms.load_agent(task, agent, model_name) \n",
            "    ^^^^^^^^^^^^^^^^^^^^^^^^^^^^^^^^^^^^^^^^\n",
            "  File \"/mnt/c/Users/Harvey/Coding/ELR/mlmodelscope/CSE302-mlmodelscope/mlmodelscope/mlmodelscope.py\", line 88, in load_agent\n",
            "    from mlmodelscope.tensorflow_agent import TensorFlow_Agent \n",
            "    ^^^^^^^^^^^^^^^^^^^^^^^^^^^^^^^^^^^^^^^^^^^^^^^^^^^^^^^^^^\n",
            "  File \"/mnt/c/Users/Harvey/Coding/ELR/mlmodelscope/CSE302-mlmodelscope/mlmodelscope/tensorflow_agent/__init__.py\", line 1, in <module>\n",
            "    from .tensorflow_agent import TensorFlow_Agent \n",
            "    ^^^^^^^^^^^^^^^^^^^^^^^^^^^^^^^^^^^^^^^^^^^^^^\n",
            "  File \"/mnt/c/Users/Harvey/Coding/ELR/mlmodelscope/CSE302-mlmodelscope/mlmodelscope/tensorflow_agent/tensorflow_agent.py\", line 13, in <module>\n",
            "    import tensorflow as tf \n",
            "    ^^^^^^^^^^^^^^^^^^^^^^^\n",
            "ModuleNotFoundError: No module named 'tensorflow'\n"
          ]
        }
      ],
      "source": [
        "!python run_image_object_detection.py --task image_object_detection --agent tensorflow --model_name faster_rcnn_resnet50_coco --architecture cpu --num_warmup 2 --dataset_name test_data --batch_size 1"
      ]
    },
    {
      "cell_type": "markdown",
      "metadata": {},
      "source": []
    },
    {
      "cell_type": "code",
      "execution_count": 34,
      "metadata": {},
      "outputs": [
        {
          "name": "stdout",
          "output_type": "stream",
          "text": [
            "Nvidia GPU detected!\n",
            "eye_contact_cnn model exists\n",
            "cannot import name 'init' from 'mlmodelscope.pytorch_agent.models.eye_contact_detection.eye_contact_cnn' (/mnt/c/Users/Harvey/Coding/ELR/mlmodelscope/CSE302-mlmodelscope/mlmodelscope/pytorch_agent/models/eye_contact_detection/eye_contact_cnn.py)\n",
            "pytorch-agent is loaded with eye_contact_cnn model\n",
            "\n",
            "eye_contact_detection_data dataset exists\n",
            "eye_contact_detection_data dataset is loaded\n",
            "\n",
            "prediction starts\n",
            "Input Data: \n",
            "\n",
            "\n",
            "Started Model\n",
            "loading saved model weights\n",
            "^C\n"
          ]
        }
      ],
      "source": [
        "!python run_eye_contact_detection.py --task eye_contact_detection --agent pytorch --model_name eye_contact_cnn --architecture gpu --num_warmup 0 --dataset_name eye_contact_detection_data --batch_size 1"
      ]
    },
    {
      "cell_type": "code",
      "execution_count": 32,
      "metadata": {},
      "outputs": [
        {
          "name": "stdout",
          "output_type": "stream",
          "text": [
            "NVIDIA GeForce RTX 4080\n"
          ]
        }
      ],
      "source": [
        "import torch\n",
        "for i in range(torch.cuda.device_count()):\n",
        "   print(torch.cuda.get_device_properties(i).name)"
      ]
    },
    {
      "cell_type": "code",
      "execution_count": null,
      "metadata": {},
      "outputs": [],
      "source": []
    }
  ],
  "metadata": {
    "colab": {
      "provenance": []
    },
    "kernelspec": {
      "display_name": "Python 3",
      "name": "python3"
    },
    "language_info": {
      "codemirror_mode": {
        "name": "ipython",
        "version": 3
      },
      "file_extension": ".py",
      "mimetype": "text/x-python",
      "name": "python",
      "nbconvert_exporter": "python",
      "pygments_lexer": "ipython3",
      "version": "3.11.5"
    }
  },
  "nbformat": 4,
  "nbformat_minor": 0
}
