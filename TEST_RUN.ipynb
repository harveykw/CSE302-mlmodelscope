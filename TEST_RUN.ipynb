{
  "cells": [
    {
      "cell_type": "code",
      "execution_count": 2,
      "metadata": {
        "id": "dgzZSG2kJ_cQ"
      },
      "outputs": [
        {
          "name": "stderr",
          "output_type": "stream",
          "text": [
            "docker: Error response from daemon: Conflict. The container name \"/jaeger\" is already in use by container \"290877eceee584e9c2bbc3c133598f9dbd4569c9069e74f6c1f051234f8e7d61\". You have to remove (or rename) that container to be able to reuse that name.\n",
            "See 'docker run --help'.\n"
          ]
        }
      ],
      "source": [
        "!docker run -d --name jaeger -e COLLECTOR_ZIPKIN_HOST_PORT=:9411 -e COLLECTOR_OTLP_ENABLED=true -p 6831:6831/udp -p 6832:6832/udp -p 5778:5778 -p 16686:16686 -p 4317:4317 -p 4318:4318 -p 14250:14250 -p 14268:14268 -p 14269:14269 -p 9411:9411 jaegertracing/all-in-one:1.44"
      ]
    },
    {
      "cell_type": "markdown",
      "metadata": {},
      "source": [
        "Access Jaeger Trace server with `http://localhost:16686/)`"
      ]
    },
    {
      "cell_type": "code",
      "execution_count": 2,
      "metadata": {
        "id": "t9v0FSFqJe1e"
      },
      "outputs": [
        {
          "name": "stdout",
          "output_type": "stream",
          "text": [
            "efficientnet_v2 model exists\n",
            "C:\\Users\\harve\\Desktop\\ELR\\py-mlmodelscope\\mlmodelscope\\tensorflow_agent\\tmp\\efficientnet_v2/efficientnet_v2\n",
            "tensorflow-agent is loaded with efficientnet_v2 model\n",
            "\n",
            "test_data dataset exists\n",
            "test_data dataset is loaded\n",
            "\n",
            "prediction starts\n",
            "Warmup\n",
            "Warmup done\n",
            "prediction is done\n",
            "\n",
            "outputs are as follows:\n",
            "[254 156 248 207 239 259]\n"
          ]
        },
        {
          "name": "stderr",
          "output_type": "stream",
          "text": [
            "2023-11-08 12:12:17.618646: I tensorflow/core/platform/cpu_feature_guard.cc:182] This TensorFlow binary is optimized to use available CPU instructions in performance-critical operations.\n",
            "To enable the following instructions: SSE SSE2 SSE3 SSE4.1 SSE4.2 AVX AVX2 FMA, in other operations, rebuild TensorFlow with the appropriate compiler flags.\n"
          ]
        }
      ],
      "source": [
        "!python run_image_classification.py --task image_classification --agent tensorflow --model_name efficientnet_v2 --architecture cpu --num_warmup 2 --dataset_name test_data --batch_size 2"
      ]
    },
    {
      "cell_type": "code",
      "execution_count": 5,
      "metadata": {},
      "outputs": [
        {
          "name": "stdout",
          "output_type": "stream",
          "text": [
            "efficientdet_d0 model exists\n",
            "C:\\Users\\harve\\Desktop\\ELR\\py-mlmodelscope\\mlmodelscope\\tensorflow_agent\\tmp\\efficientdet_d0/efficientdet_d0\n",
            "tensorflow-agent is loaded with efficientdet_d0 model\n",
            "\n",
            "test_data dataset exists\n",
            "test_data dataset is loaded\n",
            "\n",
            "prediction starts\n",
            "Warmup\n",
            "[[18.0, 63.0, 65.0, 32.0, 17.0, 88.0, 19.0, 1.0, 62.0, 15.0, 32.0, 23.0, 32.0, 21.0, 42.0, 32.0, 32.0, 27.0, 20.0, 18.0, 9.0, 33.0, 32.0, 75.0, 75.0, 3.0, 41.0, 32.0, 32.0, 18.0, 88.0, 63.0, 75.0, 90.0, 90.0, 88.0, 48.0, 32.0, 62.0, 1.0, 1.0, 34.0, 36.0, 1.0, 16.0, 32.0, 84.0, 48.0, 65.0, 32.0, 18.0, 32.0, 46.0, 18.0, 88.0, 46.0, 18.0, 84.0, 75.0, 32.0, 63.0, 4.0, 1.0, 62.0, 32.0, 5.0, 18.0, 90.0, 63.0, 63.0, 1.0, 41.0, 37.0, 84.0, 43.0, 77.0, 88.0, 62.0, 63.0, 31.0, 18.0, 62.0, 65.0, 62.0, 8.0, 61.0, 18.0, 31.0, 72.0, 46.0, 1.0, 37.0, 58.0, 88.0, 65.0, 32.0, 15.0, 31.0, 67.0, 47.0]]\n",
            "[[18.0, 63.0, 62.0, 62.0, 19.0, 18.0, 63.0, 62.0, 15.0, 15.0, 63.0, 63.0, 88.0, 17.0, 1.0, 21.0, 1.0, 1.0, 65.0, 62.0, 62.0, 15.0, 64.0, 15.0, 19.0, 27.0, 33.0, 23.0, 18.0, 37.0, 27.0, 65.0, 18.0, 18.0, 20.0, 62.0, 62.0, 62.0, 62.0, 33.0, 15.0, 63.0, 64.0, 67.0, 88.0, 62.0, 18.0, 15.0, 84.0, 33.0, 3.0, 64.0, 65.0, 15.0, 88.0, 3.0, 18.0, 15.0, 42.0, 15.0, 62.0, 63.0, 67.0, 1.0, 27.0, 1.0, 17.0, 17.0, 28.0, 65.0, 18.0, 33.0, 62.0, 62.0, 62.0, 33.0, 27.0, 1.0, 9.0, 28.0, 2.0, 63.0, 72.0, 31.0, 1.0, 67.0, 62.0, 64.0, 31.0, 63.0, 33.0, 16.0, 63.0, 63.0, 84.0, 65.0, 8.0, 62.0, 41.0, 62.0]]\n",
            "Warmup done\n",
            "[[18.0, 63.0, 65.0, 32.0, 17.0, 88.0, 19.0, 1.0, 62.0, 15.0, 32.0, 23.0, 32.0, 21.0, 42.0, 32.0, 32.0, 27.0, 20.0, 18.0, 9.0, 33.0, 32.0, 75.0, 75.0, 3.0, 41.0, 32.0, 32.0, 18.0, 88.0, 63.0, 75.0, 90.0, 90.0, 88.0, 48.0, 32.0, 62.0, 1.0, 1.0, 34.0, 36.0, 1.0, 16.0, 32.0, 84.0, 48.0, 65.0, 32.0, 18.0, 32.0, 46.0, 18.0, 88.0, 46.0, 18.0, 84.0, 75.0, 32.0, 63.0, 4.0, 1.0, 62.0, 32.0, 5.0, 18.0, 90.0, 63.0, 63.0, 1.0, 41.0, 37.0, 84.0, 43.0, 77.0, 88.0, 62.0, 63.0, 31.0, 18.0, 62.0, 65.0, 62.0, 8.0, 61.0, 18.0, 31.0, 72.0, 46.0, 1.0, 37.0, 58.0, 88.0, 65.0, 32.0, 15.0, 31.0, 67.0, 47.0]]\n",
            "[[18.0, 63.0, 62.0, 62.0, 19.0, 18.0, 63.0, 62.0, 15.0, 15.0, 63.0, 63.0, 88.0, 17.0, 1.0, 21.0, 1.0, 1.0, 65.0, 62.0, 62.0, 15.0, 64.0, 15.0, 19.0, 27.0, 33.0, 23.0, 18.0, 37.0, 27.0, 65.0, 18.0, 18.0, 20.0, 62.0, 62.0, 62.0, 62.0, 33.0, 15.0, 63.0, 64.0, 67.0, 88.0, 62.0, 18.0, 15.0, 84.0, 33.0, 3.0, 64.0, 65.0, 15.0, 88.0, 3.0, 18.0, 15.0, 42.0, 15.0, 62.0, 63.0, 67.0, 1.0, 27.0, 1.0, 17.0, 17.0, 28.0, 65.0, 18.0, 33.0, 62.0, 62.0, 62.0, 33.0, 27.0, 1.0, 9.0, 28.0, 2.0, 63.0, 72.0, 31.0, 1.0, 67.0, 62.0, 64.0, 31.0, 63.0, 33.0, 16.0, 63.0, 63.0, 84.0, 65.0, 8.0, 62.0, 41.0, 62.0]]\n",
            "[[18.0, 17.0, 16.0, 42.0, 23.0, 16.0, 65.0, 88.0, 17.0, 21.0, 18.0, 15.0, 1.0, 37.0, 17.0, 18.0, 63.0, 55.0, 20.0, 37.0, 19.0, 18.0, 18.0, 34.0, 17.0, 53.0, 3.0, 18.0, 1.0, 37.0, 34.0, 65.0, 88.0, 34.0, 15.0, 9.0, 41.0, 41.0, 89.0, 16.0, 16.0, 53.0, 1.0, 42.0, 1.0, 75.0, 18.0, 55.0, 16.0, 17.0, 27.0, 62.0, 53.0, 18.0, 36.0, 34.0, 88.0, 1.0, 62.0, 55.0, 33.0, 31.0, 44.0, 33.0, 74.0, 18.0, 31.0, 60.0, 20.0, 77.0, 36.0, 88.0, 55.0, 53.0, 55.0, 85.0, 18.0, 32.0, 63.0, 53.0, 1.0, 16.0, 65.0, 51.0, 32.0, 90.0, 89.0, 1.0, 90.0, 37.0, 16.0, 16.0, 16.0, 18.0, 64.0, 75.0, 57.0, 53.0, 34.0, 55.0]]\n",
            "[[18.0, 37.0, 32.0, 40.0, 88.0, 17.0, 15.0, 27.0, 63.0, 41.0, 34.0, 1.0, 21.0, 19.0, 65.0, 62.0, 90.0, 32.0, 23.0, 42.0, 43.0, 20.0, 34.0, 33.0, 18.0, 36.0, 18.0, 16.0, 9.0, 77.0, 18.0, 32.0, 18.0, 32.0, 40.0, 44.0, 32.0, 32.0, 89.0, 18.0, 37.0, 37.0, 18.0, 37.0, 75.0, 1.0, 1.0, 34.0, 1.0, 32.0, 1.0, 37.0, 18.0, 39.0, 41.0, 31.0, 27.0, 1.0, 40.0, 31.0, 18.0, 37.0, 90.0, 32.0, 37.0, 37.0, 4.0, 32.0, 32.0, 62.0, 34.0, 32.0, 52.0, 15.0, 1.0, 52.0, 40.0, 37.0, 1.0, 34.0, 67.0, 37.0, 84.0, 32.0, 37.0, 32.0, 41.0, 15.0, 3.0, 37.0, 40.0, 32.0, 32.0, 32.0, 32.0, 18.0, 15.0, 15.0, 37.0, 37.0]]\n",
            "[[1.0, 18.0, 18.0, 88.0, 23.0, 18.0, 20.0, 65.0, 1.0, 23.0, 17.0, 1.0, 1.0, 1.0, 21.0, 19.0, 17.0, 42.0, 15.0, 16.0, 63.0, 88.0, 1.0, 1.0, 31.0, 1.0, 31.0, 9.0, 1.0, 31.0, 62.0, 1.0, 1.0, 1.0, 61.0, 19.0, 1.0, 18.0, 18.0, 88.0, 9.0, 15.0, 1.0, 65.0, 27.0, 1.0, 1.0, 1.0, 18.0, 88.0, 27.0, 18.0, 54.0, 25.0, 36.0, 1.0, 27.0, 31.0, 20.0, 1.0, 41.0, 27.0, 1.0, 42.0, 67.0, 65.0, 1.0, 31.0, 18.0, 18.0, 22.0, 1.0, 19.0, 27.0, 21.0, 1.0, 1.0, 52.0, 1.0, 1.0, 18.0, 32.0, 16.0, 31.0, 18.0, 1.0, 34.0, 62.0, 31.0, 62.0, 21.0, 88.0, 23.0, 1.0, 65.0, 18.0, 3.0, 16.0, 1.0, 32.0]]\n",
            "[[18.0, 23.0, 88.0, 65.0, 1.0, 42.0, 19.0, 17.0, 63.0, 62.0, 21.0, 9.0, 15.0, 16.0, 20.0, 34.0, 36.0, 18.0, 54.0, 41.0, 27.0, 37.0, 5.0, 53.0, 16.0, 47.0, 61.0, 3.0, 44.0, 33.0, 18.0, 88.0, 88.0, 32.0, 19.0, 37.0, 22.0, 25.0, 18.0, 18.0, 32.0, 1.0, 1.0, 52.0, 18.0, 58.0, 77.0, 59.0, 88.0, 60.0, 18.0, 18.0, 72.0, 51.0, 65.0, 88.0, 46.0, 35.0, 1.0, 53.0, 64.0, 67.0, 88.0, 1.0, 20.0, 65.0, 8.0, 86.0, 23.0, 18.0, 1.0, 65.0, 42.0, 51.0, 23.0, 84.0, 65.0, 90.0, 15.0, 20.0, 1.0, 16.0, 4.0, 37.0, 65.0, 28.0, 1.0, 23.0, 31.0, 17.0, 18.0, 18.0, 62.0, 65.0, 40.0, 64.0, 58.0, 65.0, 18.0, 1.0]]\n",
            "prediction is done\n",
            "\n",
            "outputs are as follows:\n",
            "image_object_detection\n",
            "6\n",
            "100 100 100\n",
            "100 100 100\n",
            "100 100 100\n",
            "100 100 100\n",
            "100 100 100\n",
            "100 100 100\n"
          ]
        },
        {
          "name": "stderr",
          "output_type": "stream",
          "text": [
            "C:\\Users\\harve\\Desktop\\ELR\\py-mlmodelscope\\mlmodelscope\\tensorflow_agent\\models/image_object_detection/efficientdet_d0.py:12: UserWarning: If the size of the images is not consistent, the batch size should be 1.\n",
            "  warnings.warn(\"If the size of the images is not consistent, the batch size should be 1.\")\n",
            "2023-11-20 09:53:31.478154: I tensorflow/core/platform/cpu_feature_guard.cc:182] This TensorFlow binary is optimized to use available CPU instructions in performance-critical operations.\n",
            "To enable the following instructions: SSE SSE2 SSE3 SSE4.1 SSE4.2 AVX AVX2 FMA, in other operations, rebuild TensorFlow with the appropriate compiler flags.\n",
            "WARNING:absl:Importing a function (__inference___call___32344) with ops with unsaved custom gradients. Will likely fail if a gradient is requested.\n",
            "WARNING:absl:Importing a function (__inference_EfficientDet-D0_layer_call_and_return_conditional_losses_97451) with ops with unsaved custom gradients. Will likely fail if a gradient is requested.\n",
            "WARNING:absl:Importing a function (__inference_bifpn_layer_call_and_return_conditional_losses_77595) with ops with unsaved custom gradients. Will likely fail if a gradient is requested.\n",
            "WARNING:absl:Importing a function (__inference_EfficientDet-D0_layer_call_and_return_conditional_losses_103456) with ops with unsaved custom gradients. Will likely fail if a gradient is requested.\n",
            "WARNING:absl:Importing a function (__inference_EfficientDet-D0_layer_call_and_return_conditional_losses_93843) with ops with unsaved custom gradients. Will likely fail if a gradient is requested.\n",
            "WARNING:absl:Importing a function (__inference_EfficientDet-D0_layer_call_and_return_conditional_losses_107064) with ops with unsaved custom gradients. Will likely fail if a gradient is requested.\n",
            "WARNING:absl:Importing a function (__inference_bifpn_layer_call_and_return_conditional_losses_75975) with ops with unsaved custom gradients. Will likely fail if a gradient is requested.\n"
          ]
        }
      ],
      "source": [
        "!python run_image_object_detection.py --task image_object_detection --agent tensorflow --model_name centernet_resnet --architecture cpu --num_warmup 2 --dataset_name test_data --batch_size 1"
      ]
    },
    {
      "cell_type": "code",
      "execution_count": 4,
      "metadata": {},
      "outputs": [
        {
          "name": "stdout",
          "output_type": "stream",
          "text": [
            "faster_rcnn_resnet50_coco model exists\n",
            "tensorflow-agent is loaded with faster_rcnn_resnet50_coco model\n",
            "\n",
            "test_data dataset exists\n",
            "test_data dataset is loaded\n",
            "\n",
            "prediction starts\n",
            "Warmup\n",
            "[[18.0, 18.0, 44.0, 1.0, 1.0, 1.0, 1.0, 1.0, 1.0, 1.0, 1.0, 1.0, 1.0, 1.0, 1.0, 1.0, 1.0, 1.0, 1.0, 1.0, 1.0, 1.0, 1.0, 1.0, 1.0, 1.0, 1.0, 1.0, 1.0, 1.0, 1.0, 1.0, 1.0, 1.0, 1.0, 1.0, 1.0, 1.0, 1.0, 1.0, 1.0, 1.0, 1.0, 1.0, 1.0, 1.0, 1.0, 1.0, 1.0, 1.0, 1.0, 1.0, 1.0, 1.0, 1.0, 1.0, 1.0, 1.0, 1.0, 1.0, 1.0, 1.0, 1.0, 1.0, 1.0, 1.0, 1.0, 1.0, 1.0, 1.0, 1.0, 1.0, 1.0, 1.0, 1.0, 1.0, 1.0, 1.0, 1.0, 1.0, 1.0, 1.0, 1.0, 1.0, 1.0, 1.0, 1.0, 1.0, 1.0, 1.0, 1.0, 1.0, 1.0, 1.0, 1.0, 1.0, 1.0, 1.0, 1.0, 1.0]]\n",
            "[[18.0, 1.0, 1.0, 1.0, 1.0, 1.0, 1.0, 1.0, 1.0, 1.0, 1.0, 1.0, 1.0, 1.0, 1.0, 1.0, 1.0, 1.0, 1.0, 1.0, 1.0, 1.0, 1.0, 1.0, 1.0, 1.0, 1.0, 1.0, 1.0, 1.0, 1.0, 1.0, 1.0, 1.0, 1.0, 1.0, 1.0, 1.0, 1.0, 1.0, 1.0, 1.0, 1.0, 1.0, 1.0, 1.0, 1.0, 1.0, 1.0, 1.0, 1.0, 1.0, 1.0, 1.0, 1.0, 1.0, 1.0, 1.0, 1.0, 1.0, 1.0, 1.0, 1.0, 1.0, 1.0, 1.0, 1.0, 1.0, 1.0, 1.0, 1.0, 1.0, 1.0, 1.0, 1.0, 1.0, 1.0, 1.0, 1.0, 1.0, 1.0, 1.0, 1.0, 1.0, 1.0, 1.0, 1.0, 1.0, 1.0, 1.0, 1.0, 1.0, 1.0, 1.0, 1.0, 1.0, 1.0, 1.0, 1.0, 1.0]]\n",
            "Warmup done\n",
            "[[18.0, 18.0, 44.0, 1.0, 1.0, 1.0, 1.0, 1.0, 1.0, 1.0, 1.0, 1.0, 1.0, 1.0, 1.0, 1.0, 1.0, 1.0, 1.0, 1.0, 1.0, 1.0, 1.0, 1.0, 1.0, 1.0, 1.0, 1.0, 1.0, 1.0, 1.0, 1.0, 1.0, 1.0, 1.0, 1.0, 1.0, 1.0, 1.0, 1.0, 1.0, 1.0, 1.0, 1.0, 1.0, 1.0, 1.0, 1.0, 1.0, 1.0, 1.0, 1.0, 1.0, 1.0, 1.0, 1.0, 1.0, 1.0, 1.0, 1.0, 1.0, 1.0, 1.0, 1.0, 1.0, 1.0, 1.0, 1.0, 1.0, 1.0, 1.0, 1.0, 1.0, 1.0, 1.0, 1.0, 1.0, 1.0, 1.0, 1.0, 1.0, 1.0, 1.0, 1.0, 1.0, 1.0, 1.0, 1.0, 1.0, 1.0, 1.0, 1.0, 1.0, 1.0, 1.0, 1.0, 1.0, 1.0, 1.0, 1.0]]\n",
            "[[18.0, 1.0, 1.0, 1.0, 1.0, 1.0, 1.0, 1.0, 1.0, 1.0, 1.0, 1.0, 1.0, 1.0, 1.0, 1.0, 1.0, 1.0, 1.0, 1.0, 1.0, 1.0, 1.0, 1.0, 1.0, 1.0, 1.0, 1.0, 1.0, 1.0, 1.0, 1.0, 1.0, 1.0, 1.0, 1.0, 1.0, 1.0, 1.0, 1.0, 1.0, 1.0, 1.0, 1.0, 1.0, 1.0, 1.0, 1.0, 1.0, 1.0, 1.0, 1.0, 1.0, 1.0, 1.0, 1.0, 1.0, 1.0, 1.0, 1.0, 1.0, 1.0, 1.0, 1.0, 1.0, 1.0, 1.0, 1.0, 1.0, 1.0, 1.0, 1.0, 1.0, 1.0, 1.0, 1.0, 1.0, 1.0, 1.0, 1.0, 1.0, 1.0, 1.0, 1.0, 1.0, 1.0, 1.0, 1.0, 1.0, 1.0, 1.0, 1.0, 1.0, 1.0, 1.0, 1.0, 1.0, 1.0, 1.0, 1.0]]\n",
            "[[18.0, 18.0, 1.0, 1.0, 1.0, 1.0, 1.0, 1.0, 1.0, 1.0, 1.0, 1.0, 1.0, 1.0, 1.0, 1.0, 1.0, 1.0, 1.0, 1.0, 1.0, 1.0, 1.0, 1.0, 1.0, 1.0, 1.0, 1.0, 1.0, 1.0, 1.0, 1.0, 1.0, 1.0, 1.0, 1.0, 1.0, 1.0, 1.0, 1.0, 1.0, 1.0, 1.0, 1.0, 1.0, 1.0, 1.0, 1.0, 1.0, 1.0, 1.0, 1.0, 1.0, 1.0, 1.0, 1.0, 1.0, 1.0, 1.0, 1.0, 1.0, 1.0, 1.0, 1.0, 1.0, 1.0, 1.0, 1.0, 1.0, 1.0, 1.0, 1.0, 1.0, 1.0, 1.0, 1.0, 1.0, 1.0, 1.0, 1.0, 1.0, 1.0, 1.0, 1.0, 1.0, 1.0, 1.0, 1.0, 1.0, 1.0, 1.0, 1.0, 1.0, 1.0, 1.0, 1.0, 1.0, 1.0, 1.0, 1.0]]\n",
            "[[18.0, 1.0, 1.0, 1.0, 1.0, 1.0, 1.0, 1.0, 1.0, 1.0, 1.0, 1.0, 1.0, 1.0, 1.0, 1.0, 1.0, 1.0, 1.0, 1.0, 1.0, 1.0, 1.0, 1.0, 1.0, 1.0, 1.0, 1.0, 1.0, 1.0, 1.0, 1.0, 1.0, 1.0, 1.0, 1.0, 1.0, 1.0, 1.0, 1.0, 1.0, 1.0, 1.0, 1.0, 1.0, 1.0, 1.0, 1.0, 1.0, 1.0, 1.0, 1.0, 1.0, 1.0, 1.0, 1.0, 1.0, 1.0, 1.0, 1.0, 1.0, 1.0, 1.0, 1.0, 1.0, 1.0, 1.0, 1.0, 1.0, 1.0, 1.0, 1.0, 1.0, 1.0, 1.0, 1.0, 1.0, 1.0, 1.0, 1.0, 1.0, 1.0, 1.0, 1.0, 1.0, 1.0, 1.0, 1.0, 1.0, 1.0, 1.0, 1.0, 1.0, 1.0, 1.0, 1.0, 1.0, 1.0, 1.0, 1.0]]\n",
            "[[1.0, 18.0, 18.0, 18.0, 17.0, 1.0, 1.0, 1.0, 1.0, 1.0, 1.0, 1.0, 1.0, 1.0, 1.0, 1.0, 1.0, 1.0, 1.0, 1.0, 1.0, 1.0, 1.0, 1.0, 1.0, 1.0, 1.0, 1.0, 1.0, 1.0, 1.0, 1.0, 1.0, 1.0, 1.0, 1.0, 1.0, 1.0, 1.0, 1.0, 1.0, 1.0, 1.0, 1.0, 1.0, 1.0, 1.0, 1.0, 1.0, 1.0, 1.0, 1.0, 1.0, 1.0, 1.0, 1.0, 1.0, 1.0, 1.0, 1.0, 1.0, 1.0, 1.0, 1.0, 1.0, 1.0, 1.0, 1.0, 1.0, 1.0, 1.0, 1.0, 1.0, 1.0, 1.0, 1.0, 1.0, 1.0, 1.0, 1.0, 1.0, 1.0, 1.0, 1.0, 1.0, 1.0, 1.0, 1.0, 1.0, 1.0, 1.0, 1.0, 1.0, 1.0, 1.0, 1.0, 1.0, 1.0, 1.0, 1.0]]\n",
            "[[18.0, 1.0, 1.0, 1.0, 1.0, 1.0, 1.0, 1.0, 1.0, 1.0, 1.0, 1.0, 1.0, 1.0, 1.0, 1.0, 1.0, 1.0, 1.0, 1.0, 1.0, 1.0, 1.0, 1.0, 1.0, 1.0, 1.0, 1.0, 1.0, 1.0, 1.0, 1.0, 1.0, 1.0, 1.0, 1.0, 1.0, 1.0, 1.0, 1.0, 1.0, 1.0, 1.0, 1.0, 1.0, 1.0, 1.0, 1.0, 1.0, 1.0, 1.0, 1.0, 1.0, 1.0, 1.0, 1.0, 1.0, 1.0, 1.0, 1.0, 1.0, 1.0, 1.0, 1.0, 1.0, 1.0, 1.0, 1.0, 1.0, 1.0, 1.0, 1.0, 1.0, 1.0, 1.0, 1.0, 1.0, 1.0, 1.0, 1.0, 1.0, 1.0, 1.0, 1.0, 1.0, 1.0, 1.0, 1.0, 1.0, 1.0, 1.0, 1.0, 1.0, 1.0, 1.0, 1.0, 1.0, 1.0, 1.0, 1.0]]\n",
            "prediction is done\n",
            "\n",
            "outputs are as follows:\n",
            "image_object_detection\n",
            "6\n",
            "100 100 100\n",
            "100 100 100\n",
            "100 100 100\n",
            "100 100 100\n",
            "100 100 100\n",
            "100 100 100\n"
          ]
        },
        {
          "name": "stderr",
          "output_type": "stream",
          "text": [
            "c:\\Users\\harve\\Desktop\\ELR\\py-mlmodelscope\\mlmodelscope\\tensorflow_agent\\models\\image_object_detection\\faster_rcnn_resnet50_coco.py:12: UserWarning: If the size of the images is not consistent, the batch size should be 1.\n",
            "  warnings.warn(\"If the size of the images is not consistent, the batch size should be 1.\")\n",
            "2023-11-20 09:53:06.550958: I tensorflow/core/platform/cpu_feature_guard.cc:182] This TensorFlow binary is optimized to use available CPU instructions in performance-critical operations.\n",
            "To enable the following instructions: SSE SSE2 SSE3 SSE4.1 SSE4.2 AVX AVX2 FMA, in other operations, rebuild TensorFlow with the appropriate compiler flags.\n",
            "2023-11-20 09:53:06.849931: I tensorflow/compiler/mlir/mlir_graph_optimization_pass.cc:375] MLIR V1 optimization pass is not enabled\n",
            "2023-11-20 09:53:10.366963: W tensorflow/core/grappler/costs/op_level_cost_estimator.cc:693] Error in PredictCost() for the op: op: \"CropAndResize\" attr { key: \"T\" value { type: DT_FLOAT } } attr { key: \"extrapolation_value\" value { f: 0 } } attr { key: \"method\" value { s: \"bilinear\" } } inputs { dtype: DT_FLOAT shape { dim { size: -316 } dim { size: -346 } dim { size: -347 } dim { size: 1024 } } } inputs { dtype: DT_FLOAT shape { dim { size: -23 } dim { size: 4 } } } inputs { dtype: DT_INT32 shape { dim { size: -23 } } } inputs { dtype: DT_INT32 shape { dim { size: 2 } } value { dtype: DT_INT32 tensor_shape { dim { size: 2 } } int_val: 14 } } device { type: \"CPU\" vendor: \"GenuineIntel\" model: \"102\" frequency: 1608 num_cores: 12 environment { key: \"cpu_instruction_set\" value: \"SSE, SSE2\" } environment { key: \"eigen\" value: \"3.4.90\" } l1_cache_size: 32768 l2_cache_size: 262144 l3_cache_size: 12582912 memory_size: 268435456 } outputs { dtype: DT_FLOAT shape { dim { size: -23 } dim { size: 14 } dim { size: 14 } dim { size: 1024 } } }\n"
          ]
        }
      ],
      "source": [
        "!python run_image_object_detection.py --task image_object_detection --agent tensorflow --model_name faster_rcnn_resnet50_coco --architecture cpu --num_warmup 2 --dataset_name test_data --batch_size 1"
      ]
    },
    {
      "cell_type": "code",
      "execution_count": null,
      "metadata": {},
      "outputs": [],
      "source": []
    }
  ],
  "metadata": {
    "colab": {
      "provenance": []
    },
    "kernelspec": {
      "display_name": "Python 3",
      "name": "python3"
    },
    "language_info": {
      "codemirror_mode": {
        "name": "ipython",
        "version": 3
      },
      "file_extension": ".py",
      "mimetype": "text/x-python",
      "name": "python",
      "nbconvert_exporter": "python",
      "pygments_lexer": "ipython3",
      "version": "3.11.5"
    }
  },
  "nbformat": 4,
  "nbformat_minor": 0
}
