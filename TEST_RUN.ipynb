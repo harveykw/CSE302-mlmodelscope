{
  "cells": [
    {
      "cell_type": "markdown",
      "metadata": {},
      "source": [
        "Access Jaeger Trace server with `http://localhost:16686/)`"
      ]
    },
    {
      "cell_type": "code",
      "execution_count": null,
      "metadata": {
        "id": "t9v0FSFqJe1e"
      },
      "outputs": [],
      "source": [
        "!python run_image_classification.py --task image_classification --agent tensorflow --model_name efficientnet_v2 --architecture cpu --num_warmup 0 --dataset_name test_data --batch_size 1"
      ]
    },
    {
      "cell_type": "code",
      "execution_count": null,
      "metadata": {},
      "outputs": [],
      "source": [
        "!python run_image_object_detection.py --task image_object_detection --agent tensorflow --model_name efficientdet_d0 --architecture cpu --num_warmup 2 --dataset_name test_data --batch_size 1"
      ]
    },
    {
      "cell_type": "code",
      "execution_count": null,
      "metadata": {},
      "outputs": [],
      "source": [
        "!python run_image_object_detection.py --task image_object_detection --agent tensorflow --model_name faster_rcnn_resnet50_coco --architecture cpu --num_warmup 2 --dataset_name test_data --batch_size 1"
      ]
    },
    {
      "cell_type": "code",
      "execution_count": 20,
      "metadata": {},
      "outputs": [
        {
          "name": "stdout",
          "output_type": "stream",
          "text": [
            "/bin/bash: /home/harveykw/miniconda3/envs/jax_elr/lib/libtinfo.so.6: no version information available (required by /bin/bash)\n",
            "vit_b16 model exists\n",
            "No GPU/TPU found, falling back to CPU. (Set TF_CPP_MIN_LOG_LEVEL=0 and rerun for more info.)\n"
          ]
        }
      ],
      "source": [
        "!python run_image_classification.py --task image_classification --agent jax --model_name vit_b16 --architecture cpu --num_warmup 0 --dataset_name test_data --batch_size 1"
      ]
    },
    {
      "cell_type": "code",
      "execution_count": null,
      "metadata": {},
      "outputs": [],
      "source": []
    }
  ],
  "metadata": {
    "colab": {
      "provenance": []
    },
    "kernelspec": {
      "display_name": "Python 3",
      "name": "python3"
    },
    "language_info": {
      "codemirror_mode": {
        "name": "ipython",
        "version": 3
      },
      "file_extension": ".py",
      "mimetype": "text/x-python",
      "name": "python",
      "nbconvert_exporter": "python",
      "pygments_lexer": "ipython3",
      "version": "3.11.5"
    }
  },
  "nbformat": 4,
  "nbformat_minor": 0
}
