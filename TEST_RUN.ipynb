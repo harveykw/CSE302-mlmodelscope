{
  "cells": [
    {
      "cell_type": "code",
      "execution_count": 2,
      "metadata": {
        "id": "dgzZSG2kJ_cQ"
      },
      "outputs": [
        {
          "name": "stderr",
          "output_type": "stream",
          "text": [
            "docker: error during connect: This error may indicate that the docker daemon is not running.: Post \"http://%2F%2F.%2Fpipe%2Fdocker_engine/v1.24/containers/create?name=jaeger\": open //./pipe/docker_engine: Access is denied.\n",
            "See 'docker run --help'.\n"
          ]
        }
      ],
      "source": [
        "!docker run -d --name jaeger -e COLLECTOR_ZIPKIN_HOST_PORT=:9411 -e COLLECTOR_OTLP_ENABLED=true -p 6831:6831/udp -p 6832:6832/udp -p 5778:5778 -p 16686:16686 -p 4317:4317 -p 4318:4318 -p 14250:14250 -p 14268:14268 -p 14269:14269 -p 9411:9411 jaegertracing/all-in-one:1.44"
      ]
    },
    {
      "cell_type": "code",
      "execution_count": 3,
      "metadata": {},
      "outputs": [
        {
          "name": "stdout",
          "output_type": "stream",
          "text": [
            " Volume in drive C is OS\n",
            " Volume Serial Number is 5A3D-ED39\n",
            "\n",
            " Directory of c:\\Users\\harve\\Desktop\\ELR\\py-mlmodelscope\n",
            "\n",
            "10/23/2023  12:42 PM    <DIR>          .\n",
            "10/23/2023  12:42 PM    <DIR>          ..\n",
            "09/13/2023  11:49 AM             3,471 .gitignore\n",
            "09/13/2023  11:49 AM                91 .gitmodules\n",
            "09/13/2023  11:49 AM    <DIR>          dockerfiles\n",
            "09/13/2023  11:49 AM    <DIR>          inference\n",
            "09/13/2023  11:49 AM             1,683 LICENSE\n",
            "09/13/2023  11:49 AM            15,334 mlharness_main.py\n",
            "09/13/2023  11:51 AM    <DIR>          mlmodelscope\n",
            "09/13/2023  11:49 AM    <DIR>          pycupti\n",
            "09/13/2023  11:51 AM    <DIR>          pydldataset\n",
            "09/13/2023  11:49 AM            16,397 README.md\n",
            "09/13/2023  11:49 AM            12,138 run_image_classification.py\n",
            "09/13/2023  11:49 AM            12,121 run_image_enhancement.py\n",
            "09/13/2023  11:49 AM            12,156 run_image_instance_segmentation.py\n",
            "09/13/2023  11:49 AM            12,164 run_image_instance_segmentation_raw.py\n",
            "09/13/2023  11:49 AM            12,139 run_image_object_detection.py\n",
            "09/13/2023  11:49 AM            12,178 run_image_semantic_segmentation.py\n",
            "09/13/2023  11:49 AM            12,138 run_mlmodelscope.py\n",
            "09/13/2023  11:49 AM            12,148 run_translation_english_to_german.py\n",
            "10/23/2023  01:07 PM             5,372 TEST_RUN.ipynb\n",
            "              14 File(s)        139,530 bytes\n",
            "               7 Dir(s)  121,167,982,592 bytes free\n"
          ]
        }
      ],
      "source": [
        "%ls"
      ]
    },
    {
      "cell_type": "markdown",
      "metadata": {},
      "source": [
        "Access Jaeger Trace server with `http://localhost:16686/)`"
      ]
    },
    {
      "cell_type": "code",
      "execution_count": 8,
      "metadata": {
        "id": "t9v0FSFqJe1e"
      },
      "outputs": [
        {
          "name": "stdout",
          "output_type": "stream",
          "text": [
            "^C\n"
          ]
        }
      ],
      "source": [
        "!python run_image_classification.py --task image_classification --agent tensorflow --model_name resnet50_keras --architecture cpu --num_warmup 2 --dataset_name test_data --batch_size 2"
      ]
    },
    {
      "cell_type": "code",
      "execution_count": null,
      "metadata": {},
      "outputs": [],
      "source": []
    }
  ],
  "metadata": {
    "colab": {
      "provenance": []
    },
    "kernelspec": {
      "display_name": "Python 3",
      "name": "python3"
    },
    "language_info": {
      "codemirror_mode": {
        "name": "ipython",
        "version": 3
      },
      "file_extension": ".py",
      "mimetype": "text/x-python",
      "name": "python",
      "nbconvert_exporter": "python",
      "pygments_lexer": "ipython3",
      "version": "3.11.5"
    }
  },
  "nbformat": 4,
  "nbformat_minor": 0
}
