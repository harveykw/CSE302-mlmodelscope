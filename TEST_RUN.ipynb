{
  "cells": [
    {
      "cell_type": "markdown",
      "metadata": {},
      "source": [
        "Access Jaeger Trace server with `http://localhost:16686/)`"
      ]
    },
    {
      "cell_type": "code",
      "execution_count": null,
      "metadata": {
        "id": "t9v0FSFqJe1e"
      },
      "outputs": [],
      "source": [
        "!python run_image_classification.py --task image_classification --agent tensorflow --model_name efficientnet_v2 --architecture cpu --num_warmup 0 --dataset_name test_data --batch_size 1"
      ]
    },
    {
      "cell_type": "code",
      "execution_count": null,
      "metadata": {},
      "outputs": [],
      "source": [
        "!python run_image_object_detection.py --task image_object_detection --agent tensorflow --model_name efficientdet_d0 --architecture cpu --num_warmup 2 --dataset_name test_data --batch_size 1"
      ]
    },
    {
      "cell_type": "code",
      "execution_count": null,
      "metadata": {},
      "outputs": [],
      "source": [
        "!python run_image_object_detection.py --task image_object_detection --agent tensorflow --model_name faster_rcnn_resnet50_coco --architecture cpu --num_warmup 2 --dataset_name test_data --batch_size 1"
      ]
    },
    {
      "cell_type": "code",
      "execution_count": 4,
      "metadata": {},
      "outputs": [
        {
          "name": "stdout",
          "output_type": "stream",
          "text": [
            "/bin/bash: /home/harveykw/miniconda3/envs/tf_elr/lib/libtinfo.so.6: no version information available (required by /bin/bash)\n",
            "resnet_50 model exists\n",
            "jax-agent is loaded with resnet_50 model\n",
            "\n",
            "test_data dataset exists\n",
            "test_data dataset is loaded\n",
            "\n",
            "prediction starts\n",
            "Traceback (most recent call last):\n",
            "  File \"/mnt/c/Users/Harvey/Coding/ELR/mlmodelscope/CSE302-mlmodelscope/run_image_classification.py\", line 279, in <module>\n",
            "    main() \n",
            "    ^^^^^^\n",
            "  File \"/mnt/c/Users/Harvey/Coding/ELR/mlmodelscope/CSE302-mlmodelscope/run_image_classification.py\", line 76, in main\n",
            "    outputs = mlms.predict(num_warmup, detailed) \n",
            "              ^^^^^^^^^^^^^^^^^^^^^^^^^^^^^^^^^^\n",
            "  File \"/mnt/c/Users/Harvey/Coding/ELR/mlmodelscope/CSE302-mlmodelscope/mlmodelscope/mlmodelscope.py\", line 105, in predict\n",
            "    outputs = self.agent.predict(num_warmup, self.dataloader, detailed) \n",
            "              ^^^^^^^^^^^^^^^^^^^^^^^^^^^^^^^^^^^^^^^^^^^^^^^^^^^^^^^^^\n",
            "  File \"/mnt/c/Users/Harvey/Coding/ELR/mlmodelscope/CSE302-mlmodelscope/mlmodelscope/jax_agent/jax_agent.py\", line 92, in predict\n",
            "    model_input = self.model.preprocess(data)\n",
            "                  ^^^^^^^^^^^^^^^^^^^^^\n",
            "AttributeError: 'NoneType' object has no attribute 'preprocess'\n",
            "Transient error StatusCode.UNAVAILABLE encountered while exporting traces to localhost:4317, retrying in 1s.\n",
            "Transient error StatusCode.UNAVAILABLE encountered while exporting traces to localhost:4317, retrying in 2s.\n",
            "Transient error StatusCode.UNAVAILABLE encountered while exporting traces to localhost:4317, retrying in 4s.\n"
          ]
        }
      ],
      "source": [
        "!python run_image_classification.py --task image_classification --agent jax --model_name resnet_50 --architecture cpu --num_warmup 0 --dataset_name test_data --batch_size 1"
      ]
    },
    {
      "cell_type": "code",
      "execution_count": null,
      "metadata": {},
      "outputs": [],
      "source": []
    }
  ],
  "metadata": {
    "colab": {
      "provenance": []
    },
    "kernelspec": {
      "display_name": "Python 3",
      "name": "python3"
    },
    "language_info": {
      "codemirror_mode": {
        "name": "ipython",
        "version": 3
      },
      "file_extension": ".py",
      "mimetype": "text/x-python",
      "name": "python",
      "nbconvert_exporter": "python",
      "pygments_lexer": "ipython3",
      "version": "3.11.5"
    }
  },
  "nbformat": 4,
  "nbformat_minor": 0
}
