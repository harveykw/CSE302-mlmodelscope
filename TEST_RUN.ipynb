{
  "cells": [
    {
      "cell_type": "code",
      "execution_count": 2,
      "metadata": {
        "id": "dgzZSG2kJ_cQ"
      },
      "outputs": [
        {
          "name": "stderr",
          "output_type": "stream",
          "text": [
            "docker: Error response from daemon: Conflict. The container name \"/jaeger\" is already in use by container \"290877eceee584e9c2bbc3c133598f9dbd4569c9069e74f6c1f051234f8e7d61\". You have to remove (or rename) that container to be able to reuse that name.\n",
            "See 'docker run --help'.\n"
          ]
        }
      ],
      "source": [
        "!docker run -d --name jaeger -e COLLECTOR_ZIPKIN_HOST_PORT=:9411 -e COLLECTOR_OTLP_ENABLED=true -p 6831:6831/udp -p 6832:6832/udp -p 5778:5778 -p 16686:16686 -p 4317:4317 -p 4318:4318 -p 14250:14250 -p 14268:14268 -p 14269:14269 -p 9411:9411 jaegertracing/all-in-one:1.44"
      ]
    },
    {
      "cell_type": "markdown",
      "metadata": {},
      "source": [
        "Access Jaeger Trace server with `http://localhost:16686/)`"
      ]
    },
    {
      "cell_type": "code",
      "execution_count": 11,
      "metadata": {
        "id": "t9v0FSFqJe1e"
      },
      "outputs": [
        {
          "name": "stdout",
          "output_type": "stream",
          "text": [
            "efficientnet_v2 model exists\n",
            "tensorflow-agent is loaded with efficientnet_v2 model\n",
            "\n",
            "test_data dataset exists\n",
            "test_data dataset is loaded\n",
            "\n",
            "prediction starts\n",
            "Warmup\n",
            "Warmup done\n",
            "prediction is done\n",
            "\n",
            "outputs are as follows:\n",
            "[254 156 248 207 239 259]\n"
          ]
        },
        {
          "name": "stderr",
          "output_type": "stream",
          "text": [
            "2023-10-25 12:52:00.240409: I tensorflow/core/platform/cpu_feature_guard.cc:182] This TensorFlow binary is optimized to use available CPU instructions in performance-critical operations.\n",
            "To enable the following instructions: SSE SSE2 SSE3 SSE4.1 SSE4.2 AVX AVX2 FMA, in other operations, rebuild TensorFlow with the appropriate compiler flags.\n"
          ]
        }
      ],
      "source": [
        "!python run_image_classification.py --task image_classification --agent tensorflow --model_name efficientnet_v2 --architecture cpu --num_warmup 2 --dataset_name test_data --batch_size 2"
      ]
    },
    {
      "cell_type": "code",
      "execution_count": null,
      "metadata": {},
      "outputs": [],
      "source": []
    }
  ],
  "metadata": {
    "colab": {
      "provenance": []
    },
    "kernelspec": {
      "display_name": "Python 3",
      "name": "python3"
    },
    "language_info": {
      "codemirror_mode": {
        "name": "ipython",
        "version": 3
      },
      "file_extension": ".py",
      "mimetype": "text/x-python",
      "name": "python",
      "nbconvert_exporter": "python",
      "pygments_lexer": "ipython3",
      "version": "3.11.5"
    }
  },
  "nbformat": 4,
  "nbformat_minor": 0
}
